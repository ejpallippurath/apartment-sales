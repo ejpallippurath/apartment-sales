{
 "cells": [
  {
   "cell_type": "code",
   "execution_count": 1,
   "metadata": {},
   "outputs": [],
   "source": [
    "# import libraries\n",
    "import warnings\n",
    "\n",
    "import pandas as pd\n",
    "import numpy as np\n",
    "import matplotlib.pyplot as plt\n",
    "import seaborn as sns\n",
    "\n",
    "from sklearn.pipeline import make_pipeline\n",
    "from sklearn.impute import SimpleImputer\n",
    "from sklearn.linear_model import LogisticRegression\n",
    "from category_encoders import OneHotEncoder\n",
    "from sklearn.model_selection import train_test_split\n",
    "from sklearn.metrics import accuracy_score\n",
    "from ipywidgets import Dropdown, FloatSlider, IntSlider, interact\n",
    "\n",
    "warnings.simplefilter(action=\"ignore\", category=FutureWarning)"
   ]
  },
  {
   "cell_type": "markdown",
   "metadata": {},
   "source": [
    "## Prepare Data"
   ]
  },
  {
   "cell_type": "markdown",
   "metadata": {},
   "source": [
    "### Import"
   ]
  },
  {
   "cell_type": "code",
   "execution_count": 2,
   "metadata": {},
   "outputs": [],
   "source": [
    "def wrangle(filepath):\n",
    "    # read csv file\n",
    "    df=pd.read_csv(filepath)\n",
    "    \n",
    "    # remove low cardinality\n",
    "    df.drop(columns=['bus_ter'],inplace=True)\n",
    "    \n",
    "    # remove outliers in n_hot_rooms & rainfall\n",
    "    low = df['rainfall'].quantile(0.1)\n",
    "    mask_rainfall = df['rainfall'].between(low, df['rainfall'].max())\n",
    "    \n",
    "    high = df['n_hot_rooms'].quantile(0.9)\n",
    "    mask_rooms = df['n_hot_rooms'].between(df['n_hot_rooms'].min(), high)\n",
    "\n",
    "    df=df[mask_rooms & mask_rainfall]\n",
    "\n",
    "    # variable transformation\n",
    "    df['avg_dis']=(df['dist1']+df['dist2']+df['dist3']+df['dist4'])/4\n",
    "    df.drop(columns=['dist1','dist2','dist3','dist4'],inplace=True)\n",
    "    \n",
    "    return df"
   ]
  },
  {
   "cell_type": "code",
   "execution_count": 3,
   "metadata": {},
   "outputs": [
    {
     "data": {
      "text/html": [
       "<div>\n",
       "<style scoped>\n",
       "    .dataframe tbody tr th:only-of-type {\n",
       "        vertical-align: middle;\n",
       "    }\n",
       "\n",
       "    .dataframe tbody tr th {\n",
       "        vertical-align: top;\n",
       "    }\n",
       "\n",
       "    .dataframe thead th {\n",
       "        text-align: right;\n",
       "    }\n",
       "</style>\n",
       "<table border=\"1\" class=\"dataframe\">\n",
       "  <thead>\n",
       "    <tr style=\"text-align: right;\">\n",
       "      <th></th>\n",
       "      <th>price</th>\n",
       "      <th>resid_area</th>\n",
       "      <th>air_qual</th>\n",
       "      <th>room_num</th>\n",
       "      <th>age</th>\n",
       "      <th>teachers</th>\n",
       "      <th>poor_prop</th>\n",
       "      <th>airport</th>\n",
       "      <th>n_hos_beds</th>\n",
       "      <th>n_hot_rooms</th>\n",
       "      <th>waterbody</th>\n",
       "      <th>rainfall</th>\n",
       "      <th>parks</th>\n",
       "      <th>Sold</th>\n",
       "      <th>avg_dis</th>\n",
       "    </tr>\n",
       "  </thead>\n",
       "  <tbody>\n",
       "    <tr>\n",
       "      <th>0</th>\n",
       "      <td>24.0</td>\n",
       "      <td>32.31</td>\n",
       "      <td>0.538</td>\n",
       "      <td>6.575</td>\n",
       "      <td>65.2</td>\n",
       "      <td>24.7</td>\n",
       "      <td>4.98</td>\n",
       "      <td>YES</td>\n",
       "      <td>5.480</td>\n",
       "      <td>11.1920</td>\n",
       "      <td>River</td>\n",
       "      <td>23</td>\n",
       "      <td>0.049347</td>\n",
       "      <td>0</td>\n",
       "      <td>4.0875</td>\n",
       "    </tr>\n",
       "    <tr>\n",
       "      <th>1</th>\n",
       "      <td>21.6</td>\n",
       "      <td>37.07</td>\n",
       "      <td>0.469</td>\n",
       "      <td>6.421</td>\n",
       "      <td>78.9</td>\n",
       "      <td>22.2</td>\n",
       "      <td>9.14</td>\n",
       "      <td>NO</td>\n",
       "      <td>7.332</td>\n",
       "      <td>12.1728</td>\n",
       "      <td>Lake</td>\n",
       "      <td>42</td>\n",
       "      <td>0.046146</td>\n",
       "      <td>1</td>\n",
       "      <td>4.9675</td>\n",
       "    </tr>\n",
       "    <tr>\n",
       "      <th>3</th>\n",
       "      <td>33.4</td>\n",
       "      <td>32.18</td>\n",
       "      <td>0.458</td>\n",
       "      <td>6.998</td>\n",
       "      <td>45.8</td>\n",
       "      <td>21.3</td>\n",
       "      <td>2.94</td>\n",
       "      <td>YES</td>\n",
       "      <td>9.268</td>\n",
       "      <td>11.2672</td>\n",
       "      <td>Lake</td>\n",
       "      <td>45</td>\n",
       "      <td>0.047151</td>\n",
       "      <td>0</td>\n",
       "      <td>6.0650</td>\n",
       "    </tr>\n",
       "    <tr>\n",
       "      <th>4</th>\n",
       "      <td>36.2</td>\n",
       "      <td>32.18</td>\n",
       "      <td>0.458</td>\n",
       "      <td>7.147</td>\n",
       "      <td>54.2</td>\n",
       "      <td>21.3</td>\n",
       "      <td>5.33</td>\n",
       "      <td>NO</td>\n",
       "      <td>8.824</td>\n",
       "      <td>11.2896</td>\n",
       "      <td>Lake</td>\n",
       "      <td>55</td>\n",
       "      <td>0.039474</td>\n",
       "      <td>0</td>\n",
       "      <td>6.0625</td>\n",
       "    </tr>\n",
       "    <tr>\n",
       "      <th>5</th>\n",
       "      <td>28.7</td>\n",
       "      <td>32.18</td>\n",
       "      <td>0.458</td>\n",
       "      <td>6.430</td>\n",
       "      <td>58.7</td>\n",
       "      <td>21.3</td>\n",
       "      <td>5.21</td>\n",
       "      <td>YES</td>\n",
       "      <td>7.174</td>\n",
       "      <td>14.2296</td>\n",
       "      <td>None</td>\n",
       "      <td>53</td>\n",
       "      <td>0.045910</td>\n",
       "      <td>1</td>\n",
       "      <td>6.0600</td>\n",
       "    </tr>\n",
       "  </tbody>\n",
       "</table>\n",
       "</div>"
      ],
      "text/plain": [
       "   price  resid_area  air_qual  room_num   age  teachers  poor_prop airport  \\\n",
       "0   24.0       32.31     0.538     6.575  65.2      24.7       4.98     YES   \n",
       "1   21.6       37.07     0.469     6.421  78.9      22.2       9.14      NO   \n",
       "3   33.4       32.18     0.458     6.998  45.8      21.3       2.94     YES   \n",
       "4   36.2       32.18     0.458     7.147  54.2      21.3       5.33      NO   \n",
       "5   28.7       32.18     0.458     6.430  58.7      21.3       5.21     YES   \n",
       "\n",
       "   n_hos_beds  n_hot_rooms waterbody  rainfall     parks  Sold  avg_dis  \n",
       "0       5.480      11.1920     River        23  0.049347     0   4.0875  \n",
       "1       7.332      12.1728      Lake        42  0.046146     1   4.9675  \n",
       "3       9.268      11.2672      Lake        45  0.047151     0   6.0650  \n",
       "4       8.824      11.2896      Lake        55  0.039474     0   6.0625  \n",
       "5       7.174      14.2296      None        53  0.045910     1   6.0600  "
      ]
     },
     "execution_count": 3,
     "metadata": {},
     "output_type": "execute_result"
    }
   ],
   "source": [
    "df=wrangle('House_Price.csv')\n",
    "df.head()"
   ]
  },
  {
   "cell_type": "code",
   "execution_count": 4,
   "metadata": {},
   "outputs": [
    {
     "name": "stdout",
     "output_type": "stream",
     "text": [
      "(422, 15)\n",
      "<class 'pandas.core.frame.DataFrame'>\n",
      "Int64Index: 422 entries, 0 to 505\n",
      "Data columns (total 15 columns):\n",
      " #   Column       Non-Null Count  Dtype  \n",
      "---  ------       --------------  -----  \n",
      " 0   price        422 non-null    float64\n",
      " 1   resid_area   422 non-null    float64\n",
      " 2   air_qual     422 non-null    float64\n",
      " 3   room_num     422 non-null    float64\n",
      " 4   age          422 non-null    float64\n",
      " 5   teachers     422 non-null    float64\n",
      " 6   poor_prop    422 non-null    float64\n",
      " 7   airport      422 non-null    object \n",
      " 8   n_hos_beds   416 non-null    float64\n",
      " 9   n_hot_rooms  422 non-null    float64\n",
      " 10  waterbody    422 non-null    object \n",
      " 11  rainfall     422 non-null    int64  \n",
      " 12  parks        422 non-null    float64\n",
      " 13  Sold         422 non-null    int64  \n",
      " 14  avg_dis      422 non-null    float64\n",
      "dtypes: float64(11), int64(2), object(2)\n",
      "memory usage: 52.8+ KB\n"
     ]
    }
   ],
   "source": [
    "print(df.shape)\n",
    "df.info()"
   ]
  },
  {
   "cell_type": "markdown",
   "metadata": {},
   "source": [
    "### Explore"
   ]
  },
  {
   "cell_type": "code",
   "execution_count": 5,
   "metadata": {},
   "outputs": [
    {
     "data": {
      "text/plain": [
       "price          0.000000\n",
       "resid_area     0.000000\n",
       "air_qual       0.000000\n",
       "room_num       0.000000\n",
       "age            0.000000\n",
       "teachers       0.000000\n",
       "poor_prop      0.000000\n",
       "airport        0.000000\n",
       "n_hos_beds     0.014218\n",
       "n_hot_rooms    0.000000\n",
       "waterbody      0.000000\n",
       "rainfall       0.000000\n",
       "parks          0.000000\n",
       "Sold           0.000000\n",
       "avg_dis        0.000000\n",
       "dtype: float64"
      ]
     },
     "execution_count": 5,
     "metadata": {},
     "output_type": "execute_result"
    }
   ],
   "source": [
    "# missing values\n",
    "df.isnull().sum()/len(df)"
   ]
  },
  {
   "cell_type": "code",
   "execution_count": 6,
   "metadata": {},
   "outputs": [
    {
     "data": {
      "text/plain": [
       "airport      2\n",
       "waterbody    4\n",
       "dtype: int64"
      ]
     },
     "execution_count": 6,
     "metadata": {},
     "output_type": "execute_result"
    }
   ],
   "source": [
    "df.select_dtypes('object').nunique()"
   ]
  },
  {
   "cell_type": "code",
   "execution_count": 7,
   "metadata": {},
   "outputs": [
    {
     "data": {
      "text/html": [
       "<div>\n",
       "<style scoped>\n",
       "    .dataframe tbody tr th:only-of-type {\n",
       "        vertical-align: middle;\n",
       "    }\n",
       "\n",
       "    .dataframe tbody tr th {\n",
       "        vertical-align: top;\n",
       "    }\n",
       "\n",
       "    .dataframe thead th {\n",
       "        text-align: right;\n",
       "    }\n",
       "</style>\n",
       "<table border=\"1\" class=\"dataframe\">\n",
       "  <thead>\n",
       "    <tr style=\"text-align: right;\">\n",
       "      <th></th>\n",
       "      <th>price</th>\n",
       "      <th>resid_area</th>\n",
       "      <th>air_qual</th>\n",
       "      <th>room_num</th>\n",
       "      <th>age</th>\n",
       "      <th>teachers</th>\n",
       "      <th>poor_prop</th>\n",
       "      <th>n_hos_beds</th>\n",
       "      <th>n_hot_rooms</th>\n",
       "      <th>rainfall</th>\n",
       "      <th>parks</th>\n",
       "      <th>Sold</th>\n",
       "      <th>avg_dis</th>\n",
       "    </tr>\n",
       "  </thead>\n",
       "  <tbody>\n",
       "    <tr>\n",
       "      <th>count</th>\n",
       "      <td>422.000000</td>\n",
       "      <td>422.000000</td>\n",
       "      <td>422.000000</td>\n",
       "      <td>422.000000</td>\n",
       "      <td>422.000000</td>\n",
       "      <td>422.000000</td>\n",
       "      <td>422.000000</td>\n",
       "      <td>416.000000</td>\n",
       "      <td>422.000000</td>\n",
       "      <td>422.000000</td>\n",
       "      <td>422.000000</td>\n",
       "      <td>422.000000</td>\n",
       "      <td>422.000000</td>\n",
       "    </tr>\n",
       "    <tr>\n",
       "      <th>mean</th>\n",
       "      <td>21.846919</td>\n",
       "      <td>41.654147</td>\n",
       "      <td>0.561990</td>\n",
       "      <td>6.247384</td>\n",
       "      <td>70.832227</td>\n",
       "      <td>21.464455</td>\n",
       "      <td>13.247749</td>\n",
       "      <td>7.913582</td>\n",
       "      <td>12.480463</td>\n",
       "      <td>40.469194</td>\n",
       "      <td>0.055099</td>\n",
       "      <td>0.452607</td>\n",
       "      <td>3.719923</td>\n",
       "    </tr>\n",
       "    <tr>\n",
       "      <th>std</th>\n",
       "      <td>9.024018</td>\n",
       "      <td>6.955601</td>\n",
       "      <td>0.119163</td>\n",
       "      <td>0.705062</td>\n",
       "      <td>27.776848</td>\n",
       "      <td>2.140330</td>\n",
       "      <td>7.355683</td>\n",
       "      <td>1.510874</td>\n",
       "      <td>1.545135</td>\n",
       "      <td>11.731669</td>\n",
       "      <td>0.010759</td>\n",
       "      <td>0.498340</td>\n",
       "      <td>2.140696</td>\n",
       "    </tr>\n",
       "    <tr>\n",
       "      <th>min</th>\n",
       "      <td>5.000000</td>\n",
       "      <td>30.460000</td>\n",
       "      <td>0.385000</td>\n",
       "      <td>3.561000</td>\n",
       "      <td>2.900000</td>\n",
       "      <td>18.000000</td>\n",
       "      <td>1.730000</td>\n",
       "      <td>5.268000</td>\n",
       "      <td>10.057600</td>\n",
       "      <td>22.000000</td>\n",
       "      <td>0.033292</td>\n",
       "      <td>0.000000</td>\n",
       "      <td>1.127500</td>\n",
       "    </tr>\n",
       "    <tr>\n",
       "      <th>25%</th>\n",
       "      <td>16.025000</td>\n",
       "      <td>35.640000</td>\n",
       "      <td>0.453000</td>\n",
       "      <td>5.875500</td>\n",
       "      <td>48.625000</td>\n",
       "      <td>19.800000</td>\n",
       "      <td>7.280000</td>\n",
       "      <td>6.632000</td>\n",
       "      <td>11.166400</td>\n",
       "      <td>30.000000</td>\n",
       "      <td>0.046922</td>\n",
       "      <td>0.000000</td>\n",
       "      <td>1.991875</td>\n",
       "    </tr>\n",
       "    <tr>\n",
       "      <th>50%</th>\n",
       "      <td>20.550000</td>\n",
       "      <td>39.900000</td>\n",
       "      <td>0.538000</td>\n",
       "      <td>6.183500</td>\n",
       "      <td>81.650000</td>\n",
       "      <td>20.900000</td>\n",
       "      <td>12.335000</td>\n",
       "      <td>8.012000</td>\n",
       "      <td>12.206400</td>\n",
       "      <td>40.000000</td>\n",
       "      <td>0.054361</td>\n",
       "      <td>0.000000</td>\n",
       "      <td>3.078750</td>\n",
       "    </tr>\n",
       "    <tr>\n",
       "      <th>75%</th>\n",
       "      <td>24.800000</td>\n",
       "      <td>48.100000</td>\n",
       "      <td>0.647000</td>\n",
       "      <td>6.594500</td>\n",
       "      <td>95.000000</td>\n",
       "      <td>22.600000</td>\n",
       "      <td>17.600000</td>\n",
       "      <td>9.149000</td>\n",
       "      <td>14.112200</td>\n",
       "      <td>51.000000</td>\n",
       "      <td>0.061719</td>\n",
       "      <td>1.000000</td>\n",
       "      <td>5.113125</td>\n",
       "    </tr>\n",
       "    <tr>\n",
       "      <th>max</th>\n",
       "      <td>50.000000</td>\n",
       "      <td>57.740000</td>\n",
       "      <td>0.871000</td>\n",
       "      <td>8.780000</td>\n",
       "      <td>100.000000</td>\n",
       "      <td>27.400000</td>\n",
       "      <td>37.970000</td>\n",
       "      <td>10.876000</td>\n",
       "      <td>15.153600</td>\n",
       "      <td>60.000000</td>\n",
       "      <td>0.086711</td>\n",
       "      <td>1.000000</td>\n",
       "      <td>12.127500</td>\n",
       "    </tr>\n",
       "  </tbody>\n",
       "</table>\n",
       "</div>"
      ],
      "text/plain": [
       "            price  resid_area    air_qual    room_num         age    teachers  \\\n",
       "count  422.000000  422.000000  422.000000  422.000000  422.000000  422.000000   \n",
       "mean    21.846919   41.654147    0.561990    6.247384   70.832227   21.464455   \n",
       "std      9.024018    6.955601    0.119163    0.705062   27.776848    2.140330   \n",
       "min      5.000000   30.460000    0.385000    3.561000    2.900000   18.000000   \n",
       "25%     16.025000   35.640000    0.453000    5.875500   48.625000   19.800000   \n",
       "50%     20.550000   39.900000    0.538000    6.183500   81.650000   20.900000   \n",
       "75%     24.800000   48.100000    0.647000    6.594500   95.000000   22.600000   \n",
       "max     50.000000   57.740000    0.871000    8.780000  100.000000   27.400000   \n",
       "\n",
       "        poor_prop  n_hos_beds  n_hot_rooms    rainfall       parks  \\\n",
       "count  422.000000  416.000000   422.000000  422.000000  422.000000   \n",
       "mean    13.247749    7.913582    12.480463   40.469194    0.055099   \n",
       "std      7.355683    1.510874     1.545135   11.731669    0.010759   \n",
       "min      1.730000    5.268000    10.057600   22.000000    0.033292   \n",
       "25%      7.280000    6.632000    11.166400   30.000000    0.046922   \n",
       "50%     12.335000    8.012000    12.206400   40.000000    0.054361   \n",
       "75%     17.600000    9.149000    14.112200   51.000000    0.061719   \n",
       "max     37.970000   10.876000    15.153600   60.000000    0.086711   \n",
       "\n",
       "             Sold     avg_dis  \n",
       "count  422.000000  422.000000  \n",
       "mean     0.452607    3.719923  \n",
       "std      0.498340    2.140696  \n",
       "min      0.000000    1.127500  \n",
       "25%      0.000000    1.991875  \n",
       "50%      0.000000    3.078750  \n",
       "75%      1.000000    5.113125  \n",
       "max      1.000000   12.127500  "
      ]
     },
     "execution_count": 7,
     "metadata": {},
     "output_type": "execute_result"
    }
   ],
   "source": [
    "df.describe()"
   ]
  },
  {
   "cell_type": "code",
   "execution_count": 8,
   "metadata": {},
   "outputs": [
    {
     "data": {
      "image/png": "[encoded data removed]",
      "text/plain": [
       "<Figure size 432x288 with 1 Axes>"
      ]
     },
     "metadata": {
      "needs_background": "light"
     },
     "output_type": "display_data"
    }
   ],
   "source": [
    "sns.boxplot(y='n_hot_rooms',data=df);"
   ]
  },
  {
   "cell_type": "code",
   "execution_count": 9,
   "metadata": {
    "scrolled": false
   },
   "outputs": [
    {
     "name": "stderr",
     "output_type": "stream",
     "text": [
      "C:\\Users\\USER\\Anaconda3\\lib\\site-packages\\matplotlib\\axes\\_axes.py:6462: UserWarning: The 'normed' kwarg is deprecated, and has been replaced by the 'density' kwarg.\n",
      "  warnings.warn(\"The 'normed' kwarg is deprecated, and has been \"\n",
      "C:\\Users\\USER\\Anaconda3\\lib\\site-packages\\matplotlib\\axes\\_axes.py:6462: UserWarning: The 'normed' kwarg is deprecated, and has been replaced by the 'density' kwarg.\n",
      "  warnings.warn(\"The 'normed' kwarg is deprecated, and has been \"\n"
     ]
    },
    {
     "data": {
      "image/png": "[encoded data removed]",
      "text/plain": [
       "<Figure size 432x432 with 3 Axes>"
      ]
     },
     "metadata": {
      "needs_background": "light"
     },
     "output_type": "display_data"
    }
   ],
   "source": [
    "sns.jointplot(y='rainfall',x='Sold',data=df);"
   ]
  },
  {
   "cell_type": "code",
   "execution_count": 10,
   "metadata": {},
   "outputs": [
    {
     "data": {
      "image/png": "[encoded data removed]",
      "text/plain": [
       "<Figure size 432x288 with 2 Axes>"
      ]
     },
     "metadata": {
      "needs_background": "light"
     },
     "output_type": "display_data"
    }
   ],
   "source": [
    "corr = df.select_dtypes('number').drop(columns='Sold').corr()\n",
    "sns.heatmap(corr);"
   ]
  },
  {
   "cell_type": "markdown",
   "metadata": {},
   "source": [
    "### Split Data"
   ]
  },
  {
   "cell_type": "code",
   "execution_count": 11,
   "metadata": {},
   "outputs": [],
   "source": [
    "X=df.loc[:,df.columns!='Sold']\n",
    "y=df['Sold']\n",
    "X_train,X_test,y_train,y_test = train_test_split(X,y,test_size=0.2,random_state=42)"
   ]
  },
  {
   "cell_type": "markdown",
   "metadata": {},
   "source": [
    "## Build Model"
   ]
  },
  {
   "cell_type": "markdown",
   "metadata": {},
   "source": [
    "### Baseline Model"
   ]
  },
  {
   "cell_type": "code",
   "execution_count": 12,
   "metadata": {},
   "outputs": [
    {
     "name": "stdout",
     "output_type": "stream",
     "text": [
      "Baseline Accuracy: 0.55\n"
     ]
    }
   ],
   "source": [
    "# baseline \n",
    "acc_baseline = y_train.value_counts(normalize=True).max()\n",
    "print('Baseline Accuracy:', round(acc_baseline,2))"
   ]
  },
  {
   "cell_type": "markdown",
   "metadata": {},
   "source": [
    "### Iterate"
   ]
  },
  {
   "cell_type": "code",
   "execution_count": 13,
   "metadata": {},
   "outputs": [
    {
     "data": {
      "text/plain": [
       "Pipeline(steps=[('onehotencoder',\n",
       "                 OneHotEncoder(cols=['airport', 'waterbody'],\n",
       "                               use_cat_names=True)),\n",
       "                ('simpleimputer', SimpleImputer()),\n",
       "                ('logisticregression', LogisticRegression(max_iter=1000))])"
      ]
     },
     "execution_count": 13,
     "metadata": {},
     "output_type": "execute_result"
    }
   ],
   "source": [
    "model=make_pipeline(OneHotEncoder(use_cat_names=True),SimpleImputer(),LogisticRegression(max_iter=1000))\n",
    "model.fit(X_train,y_train)"
   ]
  },
  {
   "cell_type": "markdown",
   "metadata": {},
   "source": [
    "### Evalute"
   ]
  },
  {
   "cell_type": "code",
   "execution_count": 14,
   "metadata": {},
   "outputs": [
    {
     "name": "stdout",
     "output_type": "stream",
     "text": [
      "Training Accuracy: 0.69\n",
      "Test Accuracy: 0.71\n"
     ]
    }
   ],
   "source": [
    "acc_train = model.score(X_train, y_train)\n",
    "acc_test = model.score(X_test, y_test)\n",
    "print('Training Accuracy:', round(acc_train, 2))\n",
    "print('Test Accuracy:', round(acc_test, 2))"
   ]
  },
  {
   "cell_type": "markdown",
   "metadata": {},
   "source": [
    "## Communicate Results"
   ]
  },
  {
   "cell_type": "code",
   "execution_count": 15,
   "metadata": {},
   "outputs": [],
   "source": [
    "features = model.named_steps['onehotencoder'].get_feature_names_out()\n",
    "importances = model.named_steps['logisticregression'].coef_[0]"
   ]
  },
  {
   "cell_type": "code",
   "execution_count": 16,
   "metadata": {},
   "outputs": [
    {
     "data": {
      "image/png": "[encoded data removed]",
      "text/plain": [
       "<Figure size 432x288 with 1 Axes>"
      ]
     },
     "metadata": {
      "needs_background": "light"
     },
     "output_type": "display_data"
    }
   ],
   "source": [
    "odds_ratio = pd.Series(np.exp(importances), index=features).sort_values()\n",
    "odds_ratio.plot(kind='bar');"
   ]
  },
  {
   "cell_type": "code",
   "execution_count": 17,
   "metadata": {},
   "outputs": [],
   "source": [
    "def make_prediction(age,air_qual,airport,avg_dis,n_hos_beds,n_hot_rooms,parks,poor_prop,price,rainfall,resid_area,room_num,teachers,waterbody):\n",
    "    data={\n",
    "        'age':age,\n",
    " 'air_qual':air_qual,\n",
    " 'airport': airport,\n",
    " 'avg_dis':avg_dis,\n",
    " 'n_hos_beds': n_hos_beds,\n",
    " 'n_hot_rooms': n_hot_rooms,\n",
    " 'parks': parks,\n",
    " 'poor_prop': poor_prop,\n",
    " 'price': price,\n",
    " 'rainfall': rainfall,\n",
    " 'resid_area': resid_area,\n",
    " 'room_num':room_num,\n",
    " 'teachers': teachers,\n",
    "    'waterbody'  :waterbody,  \n",
    "    }\n",
    "    df=pd.DataFrame(data,index=[0])\n",
    "    prediction = model.predict(df).round(2)[0]\n",
    "    return f\"Apartment will sell or not: {prediction}\""
   ]
  },
  {
   "cell_type": "code",
   "execution_count": 18,
   "metadata": {},
   "outputs": [
    {
     "data": {
      "application/vnd.jupyter.widget-view+json": {
       "model_id": "c5889bf4664241a49bdbe0bcc6580a79",
       "version_major": 2,
       "version_minor": 0
      },
      "text/plain": [
       "interactive(children=(FloatSlider(value=71.41602373887245, description='age', min=2.9, step=0.01), FloatSlider…"
      ]
     },
     "metadata": {},
     "output_type": "display_data"
    }
   ],
   "source": [
    "interact(\n",
    "    make_prediction,\n",
    "    rainfall=IntSlider(\n",
    "        min=X_train[\"rainfall\"].min(),\n",
    "        max=X_train[\"rainfall\"].max(),\n",
    "        value=X_train[\"rainfall\"].mean(),\n",
    "    ),\n",
    "    age=FloatSlider(\n",
    "        min=X_train[\"age\"].min(),\n",
    "        max=X_train[\"age\"].max(),\n",
    "        step=0.01,\n",
    "        value=X_train[\"age\"].mean(),\n",
    "    ),\n",
    "    air_qual=FloatSlider(\n",
    "        min=X_train[\"air_qual\"].min(),\n",
    "        max=X_train[\"air_qual\"].max(),\n",
    "        step=0.01,\n",
    "        value=X_train[\"air_qual\"].mean(),\n",
    "    ),\n",
    "    avg_dis=FloatSlider(\n",
    "        min=X_train[\"avg_dis\"].min(),\n",
    "        max=X_train[\"avg_dis\"].max(),\n",
    "        step=0.01,\n",
    "        value=X_train[\"avg_dis\"].mean(),\n",
    "    ),\n",
    "    n_hos_beds=FloatSlider(\n",
    "        min=X_train[\"n_hos_beds\"].min(),\n",
    "        max=X_train[\"n_hos_beds\"].max(),\n",
    "        step=0.01,\n",
    "        value=X_train[\"n_hos_beds\"].mean(),\n",
    "    ),\n",
    "    n_hot_rooms=FloatSlider(\n",
    "        min=X_train[\"n_hot_rooms\"].min(),\n",
    "        max=X_train[\"n_hot_rooms\"].max(),\n",
    "        step=0.01,\n",
    "        value=X_train[\"n_hot_rooms\"].mean(),\n",
    "    ),parks=FloatSlider(\n",
    "        min=X_train[\"parks\"].min(),\n",
    "        max=X_train[\"parks\"].max(),\n",
    "        step=0.01,\n",
    "        value=X_train[\"parks\"].mean(),\n",
    "    ),poor_prop=FloatSlider(\n",
    "        min=X_train[\"poor_prop\"].min(),\n",
    "        max=X_train[\"poor_prop\"].max(),\n",
    "        step=0.01,\n",
    "        value=X_train[\"poor_prop\"].mean(),\n",
    "    ),price=FloatSlider(\n",
    "        min=X_train[\"price\"].min(),\n",
    "        max=X_train[\"price\"].max(),\n",
    "        step=0.01,\n",
    "        value=X_train[\"price\"].mean(),\n",
    "    ),resid_area=FloatSlider(\n",
    "        min=X_train[\"resid_area\"].min(),\n",
    "        max=X_train[\"resid_area\"].max(),\n",
    "        step=0.01,\n",
    "        value=X_train[\"resid_area\"].mean(),\n",
    "    ),room_num=FloatSlider(\n",
    "        min=X_train[\"room_num\"].min(),\n",
    "        max=X_train[\"room_num\"].max(),\n",
    "        step=0.01,\n",
    "        value=X_train[\"room_num\"].mean(),\n",
    "    ),teachers=FloatSlider(\n",
    "        min=X_train[\"teachers\"].min(),\n",
    "        max=X_train[\"teachers\"].max(),\n",
    "        step=0.01,\n",
    "        value=X_train[\"teachers\"].mean(),\n",
    "    ),\n",
    "    airport=Dropdown(options=sorted(X_train[\"airport\"].unique())),\n",
    "    waterbody=Dropdown(options=sorted(X_train[\"waterbody\"].unique())),\n",
    ");"
   ]
  },
  {
   "cell_type": "code",
   "execution_count": null,
   "metadata": {},
   "outputs": [],
   "source": []
  }
 ],
 "metadata": {
  "kernelspec": {
   "display_name": "Python 3",
   "language": "python",
   "name": "python3"
  },
  "language_info": {
   "codemirror_mode": {
    "name": "ipython",
    "version": 3
   },
   "file_extension": ".py",
   "mimetype": "text/x-python",
   "name": "python",
   "nbconvert_exporter": "python",
   "pygments_lexer": "ipython3",
   "version": "3.6.5"
  }
 },
 "nbformat": 4,
 "nbformat_minor": 2
}
